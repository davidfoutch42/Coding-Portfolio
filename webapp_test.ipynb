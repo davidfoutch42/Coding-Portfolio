{
 "cells": [
  {
   "cell_type": "code",
   "execution_count": null,
   "id": "b44b9539",
   "metadata": {},
   "outputs": [],
   "source": [
    "import sys\n",
    "import subprocess\n",
    "import webbrowser\n",
    "from PySide6.QtWidgets import QApplication, QMainWindow, QPushButton\n",
    "\n",
    "class MainWindow(QMainWindow):\n",
    "    def __init__(self):\n",
    "        super().__init__()\n",
    "        self.setWindowTitle(\"Open Dash App\")\n",
    "        self.setGeometry(100, 100, 400, 300)\n",
    "\n",
    "        button = QPushButton('Open Dash App', self)\n",
    "        button.setGeometry(50, 50, 200, 50)\n",
    "        button.clicked.connect(self.open_dashboard_in_browser)\n",
    "\n",
    "    def open_dashboard_in_browser(self):\n",
    "        subprocess.Popen([\"python\", \"dashboard.py\"])  # Change \"python\" if using a different Python interpreter\n",
    "        webbrowser.open_new_tab('http://127.0.0.1:8080/')  # Replace with the actual URL of your Dash app\n",
    "\n",
    "if __name__ == \"__main__\":\n",
    "    app = QApplication(sys.argv)\n",
    "    main_window = MainWindow()\n",
    "    main_window.show()\n",
    "    sys.exit(app.exec())"
   ]
  },
  {
   "cell_type": "code",
   "execution_count": null,
   "id": "583985e7",
   "metadata": {},
   "outputs": [],
   "source": []
  }
 ],
 "metadata": {
  "kernelspec": {
   "display_name": "Python 3 (ipykernel)",
   "language": "python",
   "name": "python3"
  },
  "language_info": {
   "codemirror_mode": {
    "name": "ipython",
    "version": 3
   },
   "file_extension": ".py",
   "mimetype": "text/x-python",
   "name": "python",
   "nbconvert_exporter": "python",
   "pygments_lexer": "ipython3",
   "version": "3.10.9"
  }
 },
 "nbformat": 4,
 "nbformat_minor": 5
}
